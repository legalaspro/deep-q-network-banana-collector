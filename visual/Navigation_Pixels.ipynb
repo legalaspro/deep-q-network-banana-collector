{
 "cells": [
  {
   "cell_type": "markdown",
   "metadata": {},
   "source": [
    "# Navigation\n",
    "\n",
    "---\n",
    "\n",
    "Congratulations for completing the first project of the [Deep Reinforcement Learning Nanodegree](https://www.udacity.com/course/deep-reinforcement-learning-nanodegree--nd893)!  In this notebook, you will learn how to control an agent in a more challenging environment, where it can learn directly from raw pixels!  **Note that this exercise is optional!**\n",
    "\n",
    "### 1. Start the Environment\n",
    "\n",
    "We begin by importing some necessary packages.  If the code cell below returns an error, please revisit the project instructions to double-check that you have installed [Unity ML-Agents](https://github.com/Unity-Technologies/ml-agents/blob/master/docs/Installation.md) and [NumPy](http://www.numpy.org/)."
   ]
  },
  {
   "cell_type": "code",
   "execution_count": 1,
   "metadata": {},
   "outputs": [],
   "source": [
    "from unityagents import UnityEnvironment\n",
    "import numpy as np\n",
    "import matplotlib.pyplot as plt\n",
    "%matplotlib inline\n",
    "# https://github.com/Unity-Technologies/ml-agents/issues/1883"
   ]
  },
  {
   "cell_type": "markdown",
   "metadata": {},
   "source": [
    "Next, we will start the environment!  **_Before running the code cell below_**, change the `file_name` parameter to match the location of the Unity environment that you downloaded.\n",
    "\n",
    "- **Mac**: `\"path/to/VisualBanana.app\"`\n",
    "- **Windows** (x86): `\"path/to/VisualBanana_Windows_x86/Banana.exe\"`\n",
    "- **Windows** (x86_64): `\"path/to/VisualBanana_Windows_x86_64/Banana.exe\"`\n",
    "- **Linux** (x86): `\"path/to/VisualBanana_Linux/Banana.x86\"`\n",
    "- **Linux** (x86_64): `\"path/to/VisualBanana_Linux/Banana.x86_64\"`\n",
    "- **Linux** (x86, headless): `\"path/to/VisualBanana_Linux_NoVis/Banana.x86\"`\n",
    "- **Linux** (x86_64, headless): `\"path/to/VisualBanana_Linux_NoVis/Banana.x86_64\"`\n",
    "\n",
    "For instance, if you are using a Mac, then you downloaded `VisualBanana.app`.  If this file is in the same folder as the notebook, then the line below should appear as follows:\n",
    "```\n",
    "env = UnityEnvironment(file_name=\"VisualBanana.app\")\n",
    "```"
   ]
  },
  {
   "cell_type": "code",
   "execution_count": 2,
   "metadata": {},
   "outputs": [
    {
     "name": "stdout",
     "output_type": "stream",
     "text": [
      "Mono path[0] = '/Users/dmitrimanajev/Dev_Code/Udacity/Deep_Reinforcement2/Value-based-methods/p1_navigation/visual/VisualBanana.app/Contents/Resources/Data/Managed'\n",
      "Mono config path = '/Users/dmitrimanajev/Dev_Code/Udacity/Deep_Reinforcement2/Value-based-methods/p1_navigation/visual/VisualBanana.app/Contents/MonoBleedingEdge/etc'\n"
     ]
    },
    {
     "name": "stderr",
     "output_type": "stream",
     "text": [
      "INFO:unityagents:\n",
      "'Academy' started successfully!\n",
      "Unity Academy name: Academy\n",
      "        Number of Brains: 1\n",
      "        Number of External Brains : 1\n",
      "        Lesson number : 0\n",
      "        Reset Parameters :\n",
      "\t\t\n",
      "Unity brain name: BananaBrain\n",
      "        Number of Visual Observations (per agent): 1\n",
      "        Vector Observation space type: continuous\n",
      "        Vector Observation space size (per agent): 0\n",
      "        Number of stacked Vector Observation: 1\n",
      "        Vector Action space type: discrete\n",
      "        Vector Action space size (per agent): 4\n",
      "        Vector Action descriptions: , , , \n"
     ]
    }
   ],
   "source": [
    "env = UnityEnvironment(file_name=\"VisualBanana.app\", no_graphics=False)"
   ]
  },
  {
   "cell_type": "markdown",
   "metadata": {},
   "source": [
    "Environments contain **_brains_** which are responsible for deciding the actions of their associated agents. Here we check for the first brain available, and set it as the default brain we will be controlling from Python."
   ]
  },
  {
   "cell_type": "code",
   "execution_count": 3,
   "metadata": {},
   "outputs": [],
   "source": [
    "# get the default brain\n",
    "brain_name = env.brain_names[0]\n",
    "brain = env.brains[brain_name]"
   ]
  },
  {
   "cell_type": "markdown",
   "metadata": {},
   "source": [
    "### 2. Examine the State and Action Spaces\n",
    "\n",
    "The simulation contains a single agent that navigates a large environment.  At each time step, it has four actions at its disposal:\n",
    "- `0` - walk forward \n",
    "- `1` - walk backward\n",
    "- `2` - turn left\n",
    "- `3` - turn right\n",
    "\n",
    "The environment state is an array of raw pixels with shape `(1, 84, 84, 3)`.  *Note that this code differs from the notebook for the project, where we are grabbing **`visual_observations`** (the raw pixels) instead of **`vector_observations`**.* A reward of `+1` is provided for collecting a yellow banana, and a reward of `-1` is provided for collecting a blue banana. \n",
    "\n",
    "Run the code cell below to print some information about the environment."
   ]
  },
  {
   "cell_type": "code",
   "execution_count": 4,
   "metadata": {},
   "outputs": [
    {
     "name": "stdout",
     "output_type": "stream",
     "text": [
      "Number of agents: 1\n",
      "Number of actions: 4\n",
      "States look like:\n"
     ]
    },
    {
     "data": {
      "image/png": "[encoded data removed]",
      "text/plain": [
       "<Figure size 640x480 with 1 Axes>"
      ]
     },
     "metadata": {},
     "output_type": "display_data"
    },
    {
     "name": "stdout",
     "output_type": "stream",
     "text": [
      "States have shape: (4, 84, 84)\n"
     ]
    }
   ],
   "source": [
    "from image_preprocessor import DQNPreprocessor\n",
    "\n",
    "# reset the environment\n",
    "env_info = env.reset(train_mode=True)[brain_name]\n",
    "\n",
    "# number of agents in the environment\n",
    "print('Number of agents:', len(env_info.agents))\n",
    "\n",
    "# number of actions\n",
    "action_size = brain.vector_action_space_size\n",
    "print('Number of actions:', action_size)\n",
    "\n",
    "# examine the state space \n",
    "state = env_info.visual_observations[0]\n",
    "print('States look like:')\n",
    "plt.imshow(np.squeeze(state))\n",
    "frame_processor = DQNPreprocessor()\n",
    "\n",
    "state = frame_processor.get_state(state)\n",
    "plt.imshow(state[0])\n",
    "plt.show()\n",
    "state_size = state.shape\n",
    "print('States have shape:', state.shape)"
   ]
  },
  {
   "cell_type": "markdown",
   "metadata": {},
   "source": [
    "### 4. It's Your Turn!\n",
    "\n",
    "Now it's your turn to train your own agent to solve the environment!  When training the environment, set `train_mode=True`, so that the line for resetting the environment looks like the following:\n",
    "```python\n",
    "env_info = env.reset(train_mode=True)[brain_name]\n",
    "```"
   ]
  },
  {
   "cell_type": "code",
   "execution_count": 5,
   "metadata": {},
   "outputs": [],
   "source": [
    "from image_preprocessor import DQNPreprocessor\n",
    "from collections import deque\n",
    "import torch\n",
    "import matplotlib.pyplot as plt\n",
    "%matplotlib inline\n",
    "\n",
    "import json\n",
    "import os\n",
    "\n",
    "\n",
    "def log_to_json(file_path, agent_name, params, episode_data):\n",
    "    # Step 1: Load existing data if the file exists and is non-empty\n",
    "    if os.path.exists(file_path) and os.path.getsize(file_path) > 0:\n",
    "        with open(file_path, 'r') as file:\n",
    "            data = json.load(file)\n",
    "    else:\n",
    "        data = {}  # Initialize as empty if the file doesn’t exist or is empty\n",
    "\n",
    "    # Step 2: Update data with new information\n",
    "    if agent_name not in data:\n",
    "        data[agent_name] = {\"parameters\": params, \"episodes_data\": {}}\n",
    "    \n",
    "    # Add episode data as a new trial\n",
    "    data[agent_name][\"episodes_data\"] = episode_data\n",
    "\n",
    "    # Step 3: Write updated data back to the file\n",
    "    with open(file_path, 'w') as file:\n",
    "        json.dump(data, file, indent=2, separators=(',', ': '))\n",
    "\n",
    "def dqn(agent, n_episodes=1500, max_t=1000, eps_start=1.0, eps_end=0.05, eps_decay=0.995, frame_skipping=1):\n",
    "    \"\"\"Deep Q-Learning.\n",
    "    \n",
    "    Params\n",
    "    ======\n",
    "        n_episodes (int): maximum number of training episodes\n",
    "        max_t (int): maximum number of timesteps per episode\n",
    "        eps_start (float): starting value of epsilon, for epsilon-greedy action selection\n",
    "        eps_end (float): minimum value of epsilon\n",
    "        eps_decay (float): multiplicative factor (per episode) for decreasing epsilon\n",
    "    \"\"\"\n",
    "    scores = []                        # list containing scores from each episode\n",
    "    scores_window = deque(maxlen=100)  # last 100 scores\n",
    "    eps = eps_start                    # initialize epsilon\n",
    "    best_average = -float('inf')       # track best average score\n",
    "    best_model_path = None             # store path of the best model\n",
    "    is_solved = False                  # solved when has > 15 score\n",
    "    episodes_to_solve = 0\n",
    "    for i_episode in range(1, n_episodes+1):\n",
    "        env_info = env.reset(train_mode=True)[brain_name]\n",
    "         # get frame from emulator\n",
    "        frame = env_info.visual_observations[0]\n",
    "\n",
    "        # set deque to store frames stack to input the neural network\n",
    "        frame_processor = DQNPreprocessor()\n",
    "\n",
    "        state = frame_processor.get_state(frame)\n",
    "\n",
    "        score = 0\n",
    "        for t in range(max_t):\n",
    "            action = agent.act(state, eps)\n",
    "            accumulated_reward = 0  # accumulate reward for repeated actions\n",
    "            \n",
    "            # Repeat the action 'frame_skipping' times\n",
    "            for _ in range(frame_skipping):\n",
    "                env_info = env.step(action)[brain_name]\n",
    "                next_frame = env_info.visual_observations[0]\n",
    "                next_state = frame_processor.get_state(next_frame)\n",
    "                reward = env_info.rewards[0]                \n",
    "                done = env_info.local_done[0]\n",
    "             \n",
    "                accumulated_reward += reward  # accumulate reward\n",
    "                if done:  # end loop if the episode ends\n",
    "                    break\n",
    "            \n",
    "            # Update the agent with the accumulated reward and next state\n",
    "            agent.step(state, action, accumulated_reward, next_state, done)\n",
    "            state = next_state  # move to the next state\n",
    "            score += accumulated_reward  # accumulate episode score\n",
    "            \n",
    "            if done:\n",
    "                break \n",
    "        scores_window.append(score)       # save most recent score\n",
    "        scores.append(score)              # save most recent score\n",
    "        eps = max(eps_end, eps_decay*eps) # decrease epsilon\n",
    "\n",
    "        avg_score = np.mean(scores_window)\n",
    "        print('\\rEpisode {}\\tAverage Score: {:.2f}'.format(i_episode, avg_score), end=\"\")\n",
    "        if i_episode % 100 == 0:\n",
    "            print('\\rEpisode {}\\tAverage Score: {:.2f}'.format(i_episode, avg_score))\n",
    "\n",
    "        # Stop if environment is solved\n",
    "        if avg_score >= 13:\n",
    "            if not is_solved:\n",
    "                print(f'\\nEnvironment solved in {i_episode - 100} episodes!\\tAverage Score: {avg_score:.2f}')\n",
    "                is_solved = True\n",
    "                episodes_to_solve = i_episode - 100\n",
    "            # Check if current average is the best so far\n",
    "            if avg_score > best_average:\n",
    "                best_average = avg_score\n",
    "                # Define a filename for saving model based on parameters\n",
    "                best_model_path = f'checkpoint_{agent.name}.pth'\n",
    "                torch.save(agent.qnetwork_local.state_dict(), best_model_path)\n",
    "                print(f'\\nBest model saved with average score: {best_average:.2f} at {best_model_path}')\n",
    "\n",
    "    return scores, best_average, episodes_to_solve"
   ]
  },
  {
   "cell_type": "code",
   "execution_count": null,
   "metadata": {},
   "outputs": [
    {
     "name": "stdout",
     "output_type": "stream",
     "text": [
      "MPS backend is available. Using MPS.\n",
      "Episode 36\tAverage Score: 0.179"
     ]
    }
   ],
   "source": [
    "from dqn_agent import Agent\n",
    "\n",
    "agent = Agent(state_size=state_size, action_size=action_size, name='Dueling DDQN', \n",
    "              learning_rate=5e-4,\n",
    "              batch_size=32,\n",
    "              tau=1e-3,\n",
    "              buffer_size=int(1e5),\n",
    "              is_double=True, is_prioritzed=False, is_dueling=True)\n",
    "# replay_filename='proportional_replay_buffer.pkl'\n",
    "\n",
    "# if os.path.exists(replay_filename) and os.path.getsize(replay_filename) > 0:\n",
    "#     agent.memory.load_buffer(replay_filename)\n",
    "# else:\n",
    "#     prefill_buffer(agent, int(1e5), replay_filename)\n",
    "\n",
    "scores, best_average, episodes_to_solve = dqn(agent, n_episodes=500, eps_start=1.0, eps_end=0.05, eps_decay=0.995)\n",
    "log_to_json('performance.json', 'Dueling DDQN', {\n",
    "    \"BUFFER_SIZE\": int(1e5), # next to try 5e5\n",
    "    \"BATCH_SIZE\": 32, \n",
    "    \"GAMMA\": 0.99,\n",
    "    \"TAU\": 1e-3,\n",
    "    \"LR\": 5e-4, \n",
    "    \"UPDATE_EVERY\": 4,\n",
    "    \"EPS_START\": 1,\n",
    "    \"EPS_END\":0.05,\n",
    "    \"EPS_DECAY\":0.99 # try 0.992\n",
    "}, {\n",
    "    \"episodes\": scores,\n",
    "    \"best_average\": best_average,\n",
    "    \"episodes_to_solve\": episodes_to_solve\n",
    "})\n",
    "#   Reduced learning rate for stability\n",
    "\n",
    "# plot the scores\n",
    "fig = plt.figure()\n",
    "ax = fig.add_subplot(111)\n",
    "plt.plot(np.arange(len(scores)), scores)\n",
    "plt.ylabel('Score')\n",
    "plt.xlabel('Episode #')\n",
    "plt.show()"
   ]
  }
 ],
 "metadata": {
  "kernelspec": {
   "display_name": "unity_env_old",
   "language": "python",
   "name": "python3"
  },
  "language_info": {
   "codemirror_mode": {
    "name": "ipython",
    "version": 3
   },
   "file_extension": ".py",
   "mimetype": "text/x-python",
   "name": "python",
   "nbconvert_exporter": "python",
   "pygments_lexer": "ipython3",
   "version": "3.10.15"
  }
 },
 "nbformat": 4,
 "nbformat_minor": 2
}
